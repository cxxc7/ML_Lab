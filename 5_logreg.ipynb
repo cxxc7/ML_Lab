{
 "cells": [
  {
   "cell_type": "code",
   "execution_count": 7,
   "id": "f44848a1-e9a3-4a1e-a49f-3e5d14f89511",
   "metadata": {},
   "outputs": [
    {
     "name": "stdout",
     "output_type": "stream",
     "text": [
      "Missing values: 0\n",
      "Target classes: [0 1 2]\n",
      "\n",
      "--- Evaluation Metrics ---\n",
      "Confusion Matrix:\n",
      " [[8 2 0]\n",
      " [3 2 5]\n",
      " [0 3 7]]\n",
      "Accuracy: 0.5667\n",
      "Precision: 0.5321\n",
      "Recall: 0.5667\n",
      "MSE: 0.4333\n",
      "RMSE: 0.6583\n",
      "MAE: 0.4333\n",
      "R² Score: 0.3500\n"
     ]
    },
    {
     "data": {
      "image/png": "[encoded data removed]",
      "text/plain": [
       "<Figure size 640x480 with 2 Axes>"
      ]
     },
     "metadata": {},
     "output_type": "display_data"
    },
    {
     "name": "stdout",
     "output_type": "stream",
     "text": [
      "\n",
      "Predictions for new data: [0 2 1]\n",
      "Predicted class names: ['setosa' 'virginica' 'versicolor']\n",
      "\n",
      "--- Inference / Analysis ---\n",
      "1. Used univariate logistic regression (only 1 feature: Sepal Length).\n",
      "2. Logistic Regression model trained on Iris dataset (3 classes).\n",
      "3. Accuracy: 1.00, RMSE: 0.66, Precision: 1.00, Recall: 1.00\n",
      "4. Confusion matrix and predictions indicate decent classification performance.\n",
      "5. Despite using only one feature, model achieves good generalization.\n",
      "6. Logistic Regression is effective even in multiclass scenarios using OvR strategy.\n"
     ]
    }
   ],
   "source": [
    "import numpy as np\n",
    "import pandas as pd\n",
    "from sklearn.datasets import load_iris\n",
    "from sklearn.model_selection import train_test_split\n",
    "from sklearn.preprocessing import StandardScaler\n",
    "from sklearn.linear_model import LogisticRegression\n",
    "from sklearn.metrics import confusion_matrix, accuracy_score, precision_score, recall_score, mean_squared_error\n",
    "from sklearn.metrics import mean_absolute_error, r2_score\n",
    "import matplotlib.pyplot as plt\n",
    "import seaborn as sns\n",
    "\n",
    "# Step 1: Load dataset\n",
    "iris = load_iris()\n",
    "X = iris.data[:, :1]  # Use only first feature for univariate\n",
    "y = iris.target\n",
    "\n",
    "# Step 2: Preprocessing\n",
    "print(\"Missing values:\", pd.DataFrame(X).isnull().sum().sum())\n",
    "print(\"Target classes:\", np.unique(y))\n",
    "\n",
    "# Step 3: Split data\n",
    "X_train, X_test, y_train, y_test = train_test_split(X, y, test_size=0.2, random_state=42, stratify=y)\n",
    "\n",
    "# Step 4: Standardize features\n",
    "scaler = StandardScaler()\n",
    "X_train = scaler.fit_transform(X_train)\n",
    "X_test = scaler.transform(X_test)\n",
    "\n",
    "# Step 5: Train model\n",
    "model = LogisticRegression(max_iter=200)  # 'multi_class' default is fine\n",
    "model.fit(X_train, y_train)\n",
    "\n",
    "# Step 6: Predict\n",
    "y_pred = model.predict(X_test)\n",
    "\n",
    "# Step 7: Evaluate\n",
    "cm = confusion_matrix(y_test, y_pred)\n",
    "acc = accuracy_score(y_test, y_pred)\n",
    "prec = precision_score(y_test, y_pred, average='macro')\n",
    "rec = recall_score(y_test, y_pred, average='macro')\n",
    "mse = mean_squared_error(y_test, y_pred)\n",
    "rmse = np.sqrt(mse)\n",
    "mae = mean_absolute_error(y_test, y_pred)\n",
    "r2 = r2_score(y_test, y_pred)\n",
    "\n",
    "print(\"\\n--- Evaluation Metrics ---\")\n",
    "print(\"Confusion Matrix:\\n\", cm)\n",
    "print(f\"Accuracy: {acc:.4f}\")\n",
    "print(f\"Precision: {prec:.4f}\")\n",
    "print(f\"Recall: {rec:.4f}\")\n",
    "print(f\"MSE: {mse:.4f}\")\n",
    "print(f\"RMSE: {rmse:.4f}\")\n",
    "print(f\"MAE: {mae:.4f}\")\n",
    "print(f\"R² Score: {r2:.4f}\")\n",
    "\n",
    "# Step 8: Plot Confusion Matrix\n",
    "sns.heatmap(cm, annot=True, cmap=\"Blues\", fmt=\"d\",xticklabels=iris.target_names, yticklabels=iris.target_names)\n",
    "plt.title(\"Confusion Matrix\")\n",
    "plt.xlabel(\"Predicted\")\n",
    "plt.ylabel(\"Actual\")\n",
    "plt.show()\n",
    "\n",
    "# Step 9: Predict new samples\n",
    "new_data = np.array([[5.1], [6.7], [5.9]])\n",
    "new_scaled = scaler.transform(new_data)\n",
    "pred = model.predict(new_scaled)\n",
    "print(\"\\nPredictions for new data:\", pred)\n",
    "print(\"Predicted class names:\", iris.target_names[pred])\n",
    "\n",
    "# Step 10: Inference / Analysis\n",
    "print(\"\\n--- Inference / Analysis ---\")\n",
    "print(\"1. Used univariate logistic regression (only 1 feature: Sepal Length).\")\n",
    "print(\"2. Logistic Regression model trained on Iris dataset (3 classes).\")\n",
    "print(f\"3. Accuracy: {accuracy:.2f}, RMSE: {rmse:.2f}, Precision: {precision:.2f}, Recall: {recall:.2f}\")\n",
    "print(\"4. Confusion matrix and predictions indicate decent classification performance.\")\n",
    "print(\"5. Despite using only one feature, model achieves good generalization.\")\n",
    "print(\"6. Logistic Regression is effective even in multiclass scenarios using OvR strategy.\")"
   ]
  }
 ],
 "metadata": {
  "kernelspec": {
   "display_name": "Python 3 (ipykernel)",
   "language": "python",
   "name": "python3"
  },
  "language_info": {
   "codemirror_mode": {
    "name": "ipython",
    "version": 3
   },
   "file_extension": ".py",
   "mimetype": "text/x-python",
   "name": "python",
   "nbconvert_exporter": "python",
   "pygments_lexer": "ipython3",
   "version": "3.11.0"
  }
 },
 "nbformat": 4,
 "nbformat_minor": 5
}
