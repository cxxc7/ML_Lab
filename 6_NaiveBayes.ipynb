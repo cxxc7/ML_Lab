{
 "cells": [
  {
   "cell_type": "code",
   "execution_count": 2,
   "id": "d28efb13-d89b-41a5-b77e-a55a613eb79f",
   "metadata": {},
   "outputs": [
    {
     "name": "stdout",
     "output_type": "stream",
     "text": [
      "Original Dataset:\n",
      "   Day   Outlook  Temp Humidity    Wind PlayTennis\n",
      "1  D1     Sunny   Hot     High    Weak         No\n",
      "2  D2     Sunny   Hot     High  Strong         No\n",
      "3  D3  Overcast   Hot     High    Weak        Yes\n",
      "4  D4      Rain  Mild     High    Weak        Yes\n",
      "5  D5      Rain  Cool   Normal    Weak        Yes\n",
      "\n",
      "Encoded Dataset:\n",
      "   Day  Outlook  Temp  Humidity  Wind  PlayTennis\n",
      "1  D1        2     1         0     1           0\n",
      "2  D2        2     1         0     0           0\n",
      "3  D3        0     1         0     1           1\n",
      "4  D4        1     2         0     1           1\n",
      "5  D5        1     0         1     1           1\n",
      "\n",
      "Test Predictions: [0]\n",
      "Accuracy: 1.0\n",
      "Classification Report:\n",
      "               precision    recall  f1-score   support\n",
      "\n",
      "           0       1.00      1.00      1.00         1\n",
      "\n",
      "    accuracy                           1.00         1\n",
      "   macro avg       1.00      1.00      1.00         1\n",
      "weighted avg       1.00      1.00      1.00         1\n",
      "\n"
     ]
    },
    {
     "data": {
      "image/png": "[encoded data removed]",
      "text/plain": [
       "<Figure size 640x480 with 2 Axes>"
      ]
     },
     "metadata": {},
     "output_type": "display_data"
    },
    {
     "name": "stdout",
     "output_type": "stream",
     "text": [
      "\n",
      "Predicted PlayTennis for ['Sunny' 'Cool' 'High' 'Weak'] is: Yes\n",
      "\n",
      "--- Inference / Analysis ---\n",
      "1. Dataset: PlayTennis (weather-related decision dataset).\n",
      "2. Applied Label Encoding to convert categorical features into numerical format.\n",
      "3. Gaussian Naive Bayes was trained on 80% of the data and tested on the remaining 20%.\n",
      "4. Accuracy Achieved: 100.00%\n",
      "5. Confusion matrix and classification report show model performance.\n",
      "6. New sample ['Sunny', 'Cool', 'High', 'Weak'] was classified as: Yes.\n",
      "7. Naive Bayes works well when features are conditionally independent.\n"
     ]
    }
   ],
   "source": [
    "import pandas as pd\n",
    "import matplotlib.pyplot as plt\n",
    "import seaborn as sns\n",
    "from sklearn.preprocessing import LabelEncoder\n",
    "from sklearn.naive_bayes import GaussianNB\n",
    "from sklearn.model_selection import train_test_split\n",
    "from sklearn.metrics import accuracy_score, classification_report, confusion_matrix\n",
    "\n",
    "# --- Step 1: Load Dataset ---\n",
    "df = pd.read_csv('PlayTennis.csv')\n",
    "df.index = range(1, len(df) + 1)\n",
    "print(\"Original Dataset:\\n\", df)\n",
    "\n",
    "# --- Step 2: Preprocessing (Label Encoding) ---\n",
    "le_outlook = LabelEncoder()\n",
    "le_temp = LabelEncoder()\n",
    "le_humidity = LabelEncoder()\n",
    "le_wind = LabelEncoder()\n",
    "le_play = LabelEncoder()\n",
    "\n",
    "df['Outlook'] = le_outlook.fit_transform(df['Outlook'])\n",
    "df['Temp'] = le_temp.fit_transform(df['Temp'])\n",
    "df['Humidity'] = le_humidity.fit_transform(df['Humidity'])\n",
    "df['Wind'] = le_wind.fit_transform(df['Wind'])\n",
    "df['PlayTennis'] = le_play.fit_transform(df['PlayTennis'])  # Yes=1, No=0\n",
    "\n",
    "print(\"\\nEncoded Dataset:\\n\", df)\n",
    "\n",
    "# --- Step 3: Split Data ---\n",
    "X = df[['Outlook', 'Temp', 'Humidity', 'Wind']]\n",
    "y = df['PlayTennis']\n",
    "X_train, X_test, y_train, y_test = train_test_split(X, y, test_size=0.2, random_state=42)\n",
    "\n",
    "# --- Step 4: Train Naive Bayes Model ---\n",
    "model = GaussianNB()\n",
    "model.fit(X_train, y_train)\n",
    "\n",
    "# --- Step 5: Evaluate on Test Data ---\n",
    "y_pred = model.predict(X_test)\n",
    "print(\"\\nTest Predictions:\", y_pred)\n",
    "print(\"Accuracy:\", accuracy_score(y_test, y_pred))\n",
    "print(\"Classification Report:\\n\", classification_report(y_test, y_pred, zero_division=0))\n",
    "\n",
    "# --- Step 6: Confusion Matrix ---\n",
    "cm = confusion_matrix(y_test, y_pred, labels=[0, 1])\n",
    "sns.heatmap(cm, annot=True, cmap='Blues', fmt='d', xticklabels=['No', 'Yes'], yticklabels=['No', 'Yes'])\n",
    "plt.title(\"Confusion Matrix - Naive Bayes\")\n",
    "plt.xlabel(\"Predicted\"); plt.ylabel(\"Actual\")\n",
    "plt.show()\n",
    "\n",
    "# --- Step 7: Predict a New Sample ---\n",
    "new_sample = pd.DataFrame([['Sunny', 'Cool', 'High', 'Weak']],\n",
    "                          columns=['Outlook', 'Temp', 'Humidity', 'Wind'])\n",
    "\n",
    "new_sample_encoded = pd.DataFrame({\n",
    "    'Outlook': le_outlook.transform(new_sample['Outlook']),\n",
    "    'Temp': le_temp.transform(new_sample['Temp']),\n",
    "    'Humidity': le_humidity.transform(new_sample['Humidity']),\n",
    "    'Wind': le_wind.transform(new_sample['Wind'])\n",
    "})\n",
    "\n",
    "new_pred = model.predict(new_sample_encoded)\n",
    "new_label = le_play.inverse_transform(new_pred)\n",
    "print(f\"\\nPredicted PlayTennis for {new_sample.values[0]} is: {new_label[0]}\")\n",
    "\n",
    "# --- Step 8: Inference / Analysis ---\n",
    "print(\"\\n--- Inference / Analysis ---\")\n",
    "print(\"1. Dataset: PlayTennis (weather-related decision dataset).\")\n",
    "print(\"2. Applied Label Encoding to convert categorical features into numerical format.\")\n",
    "print(\"3. Gaussian Naive Bayes was trained on 80% of the data and tested on the remaining 20%.\")\n",
    "print(f\"4. Accuracy Achieved: {accuracy_score(y_test, y_pred)*100:.2f}%\")\n",
    "print(\"5. Confusion matrix and classification report show model performance.\")\n",
    "print(f\"6. New sample ['Sunny', 'Cool', 'High', 'Weak'] was classified as: {new_label[0]}.\")\n",
    "print(\"7. Naive Bayes works well when features are conditionally independent.\")"
   ]
  }
 ],
 "metadata": {
  "kernelspec": {
   "display_name": "Python 3 (ipykernel)",
   "language": "python",
   "name": "python3"
  },
  "language_info": {
   "codemirror_mode": {
    "name": "ipython",
    "version": 3
   },
   "file_extension": ".py",
   "mimetype": "text/x-python",
   "name": "python",
   "nbconvert_exporter": "python",
   "pygments_lexer": "ipython3",
   "version": "3.11.0"
  }
 },
 "nbformat": 4,
 "nbformat_minor": 5
}
